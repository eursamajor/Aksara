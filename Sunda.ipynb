{
  "nbformat": 4,
  "nbformat_minor": 0,
  "metadata": {
    "colab": {
      "provenance": [],
      "gpuType": "T4",
      "include_colab_link": true
    },
    "kernelspec": {
      "name": "python3",
      "display_name": "Python 3"
    },
    "language_info": {
      "name": "python"
    },
    "accelerator": "GPU"
  },
  "cells": [
    {
      "cell_type": "markdown",
      "metadata": {
        "id": "view-in-github",
        "colab_type": "text"
      },
      "source": [
        "<a href=\"https://colab.research.google.com/github/eursamajor/Aksara/blob/main/Sunda.ipynb\" target=\"_parent\"><img src=\"https://colab.research.google.com/assets/colab-badge.svg\" alt=\"Open In Colab\"/></a>"
      ]
    },
    {
      "cell_type": "markdown",
      "source": [
        "### IMPORT DATA AND DATA AUGMENTATION"
      ],
      "metadata": {
        "id": "n-ZWkBSgh3-H"
      }
    },
    {
      "cell_type": "code",
      "source": [
        "import os\n",
        "import shutil\n",
        "import requests\n",
        "import zipfile\n",
        "from io import BytesIO\n",
        "import numpy as np\n",
        "from sklearn.model_selection import train_test_split\n",
        "from tensorflow.keras.preprocessing.image import ImageDataGenerator\n",
        "from tensorflow.keras.applications import MobileNetV2, VGG16, ResNet50, InceptionV3, DenseNet121\n",
        "from tensorflow.keras.layers import Dense, Flatten, Dropout\n",
        "from tensorflow.keras.optimizers import RMSprop, Adam\n",
        "from tensorflow.keras.models import Model, load_model\n",
        "from keras.callbacks import ModelCheckpoint, EarlyStopping, ReduceLROnPlateau, Callback\n",
        "import matplotlib.pyplot as plt"
      ],
      "metadata": {
        "id": "rM5xkSO-10_j"
      },
      "execution_count": 1,
      "outputs": []
    },
    {
      "cell_type": "code",
      "execution_count": null,
      "metadata": {
        "id": "BnQkziot0tYN"
      },
      "outputs": [],
      "source": [
        "dataset_dir = './drive/MyDrive/Aksara/Sunda'\n",
        "\n",
        "# new dir utk taroh 3 data\n",
        "base_dir = './dataset_split'\n",
        "train_dir = os.path.join(base_dir, 'train')\n",
        "val_dir = os.path.join(base_dir, 'val')\n",
        "test_dir = os.path.join(base_dir, 'test')\n",
        "\n",
        "for directory in [train_dir, val_dir, test_dir]:\n",
        "    os.makedirs(directory, exist_ok=True)\n",
        "    for class_name in os.listdir(dataset_dir):\n",
        "        os.makedirs(os.path.join(directory, class_name), exist_ok=True)\n",
        "\n",
        "# split data\n",
        "for class_name in os.listdir(dataset_dir):\n",
        "    class_path = os.path.join(dataset_dir, class_name)\n",
        "    images = os.listdir(class_path)\n",
        "\n",
        "    train_images, temp_images = train_test_split(images, test_size=0.4, random_state=42)\n",
        "    val_images, test_images = train_test_split(temp_images, test_size=0.5, random_state=42)\n",
        "\n",
        "    for image in train_images:\n",
        "        shutil.copy(os.path.join(class_path, image), os.path.join(train_dir, class_name, image))\n",
        "\n",
        "    for image in val_images:\n",
        "        shutil.copy(os.path.join(class_path, image), os.path.join(val_dir, class_name, image))\n",
        "\n",
        "    for image in test_images:\n",
        "        shutil.copy(os.path.join(class_path, image), os.path.join(test_dir, class_name, image))\n",
        "\n",
        "#augment\n",
        "img_size = (224, 224)\n",
        "batch_size = 16\n",
        "\n",
        "# train_datagen = ImageDataGenerator(rescale=1./255,\n",
        "#                                    rotation_range=40,\n",
        "#                                    shear_range=0.2,\n",
        "#                                    zoom_range=0.2,\n",
        "#                                    width_shift_range=0.2,\n",
        "#                                    height_shift_range=0.2,\n",
        "#                                    horizontal_flip=True,\n",
        "#                                    fill_mode='nearest'\n",
        "#                                    )\n",
        "\n",
        "train_datagen = ImageDataGenerator(rescale=1./255)\n",
        "val_datagen = ImageDataGenerator(rescale=1./255)\n",
        "test_datagen = ImageDataGenerator(rescale=1./255)\n",
        "\n",
        "train_generator = train_datagen.flow_from_directory(train_dir, target_size=img_size, batch_size=batch_size, class_mode='categorical')\n",
        "val_generator = val_datagen.flow_from_directory(val_dir, target_size=img_size, batch_size=batch_size, class_mode='categorical')\n",
        "test_generator = test_datagen.flow_from_directory(test_dir, target_size=img_size, batch_size=batch_size, class_mode='categorical')"
      ]
    },
    {
      "cell_type": "markdown",
      "source": [
        "### DEFINE MODEL"
      ],
      "metadata": {
        "id": "iraRL4V-iCoF"
      }
    },
    {
      "cell_type": "code",
      "source": [
        "def create_model(base_model):\n",
        "    for layer in base_model.layers:\n",
        "        layer.trainable = False\n",
        "\n",
        "    x = Flatten()(base_model.output)\n",
        "    x = Dense(1024, activation='relu')(x)\n",
        "    x = Dropout(0.5)(x)\n",
        "    predictions = Dense(len(train_generator.class_indices), activation='softmax')(x)\n",
        "\n",
        "    model = Model(inputs=base_model.input, outputs=predictions)\n",
        "\n",
        "    model.compile(optimizer=Adam(), loss='categorical_crossentropy', metrics=['accuracy'])\n",
        "    return model\n",
        "\n",
        "models = {\n",
        "    'VGG16': VGG16(weights='imagenet', include_top=False, input_shape=(224, 224,3)),\n",
        "    'ResNet50': ResNet50(weights='imagenet', include_top=False, input_shape=(224, 224, 3)),\n",
        "    'InceptionV3': InceptionV3(weights='imagenet', include_top=False, input_shape=(224, 224, 3)),\n",
        "    'MobileNetV2': MobileNetV2(weights='imagenet', include_top=False, input_shape=(224, 224, 3)),\n",
        "    'DenseNet121': DenseNet121(weights='imagenet', include_top=False, input_shape=(224, 224, 3))\n",
        "}\n",
        "\n",
        "results = {}"
      ],
      "metadata": {
        "id": "6FxTS2bo-aV9"
      },
      "execution_count": null,
      "outputs": []
    },
    {
      "cell_type": "markdown",
      "source": [
        "### TRAIN AND EVALUATION"
      ],
      "metadata": {
        "id": "WAhdSTnMiGu_"
      }
    },
    {
      "cell_type": "code",
      "source": [
        "early_stopping = EarlyStopping(monitor='val_loss', patience=5, restore_best_weights=True)\n",
        "lr_scheduler = ReduceLROnPlateau(monitor='val_loss', factor=0.5, patience=5, min_lr=0.00001)\n",
        "\n",
        "for model_name, base_model in models.items():\n",
        "    print(f\"Training {model_name}...\")\n",
        "    model = create_model(base_model)\n",
        "    history = model.fit(train_generator, validation_data=val_generator, epochs=30)\n",
        "\n",
        "    test_loss, test_acc = model.evaluate(test_generator)\n",
        "    results[model_name] = {\n",
        "        'accuracy': history.history['accuracy'],\n",
        "        'val_accuracy': history.history['val_accuracy'],\n",
        "        'test_accuracy': test_acc\n",
        "    }"
      ],
      "metadata": {
        "id": "prY4P-mU-vi7"
      },
      "execution_count": null,
      "outputs": []
    },
    {
      "cell_type": "code",
      "source": [
        "# Plotting Training Accuracy\n",
        "plt.figure(figsize=(14, 8))\n",
        "for model_name, result in results.items():\n",
        "    plt.plot(result['accuracy'], label=f\"{model_name} Train\")\n",
        "plt.xlabel('Epochs')\n",
        "plt.ylabel('Training Accuracy')\n",
        "plt.legend()\n",
        "plt.title('Training Accuracy Comparison')\n",
        "plt.grid(False)\n",
        "plt.show()\n",
        "\n",
        "# Plotting Validation Accuracy\n",
        "plt.figure(figsize=(14, 8))\n",
        "for model_name, result in results.items():\n",
        "    plt.plot(result['val_accuracy'], label=f\"{model_name} Validation\")\n",
        "plt.xlabel('Epochs')\n",
        "plt.ylabel('Validation Accuracy')\n",
        "plt.legend()\n",
        "plt.title('Validation Accuracy Comparison')\n",
        "plt.grid(False)\n",
        "plt.show()"
      ],
      "metadata": {
        "id": "_PxOidKv_PMl"
      },
      "execution_count": null,
      "outputs": []
    },
    {
      "cell_type": "code",
      "source": [],
      "metadata": {
        "id": "5Lh1s7o471vR"
      },
      "execution_count": null,
      "outputs": []
    }
  ]
}